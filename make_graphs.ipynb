{
 "cells": [
  {
   "cell_type": "code",
   "execution_count": 14,
   "metadata": {},
   "outputs": [],
   "source": []
  },
  {
   "cell_type": "code",
   "execution_count": 17,
   "metadata": {},
   "outputs": [
    {
     "data": {
      "text/plain": [
       "defaultdict(int,\n",
       "            {'swing': 122,\n",
       "             'strike': 172,\n",
       "             'hit': 89,\n",
       "             'foul': 46,\n",
       "             'ball': 103,\n",
       "             'in play': 43})"
      ]
     },
     "execution_count": 17,
     "metadata": {},
     "output_type": "execute_result"
    }
   ],
   "source": [
    "import json\n",
    "import glob\n",
    "from collections import defaultdict\n",
    "\n",
    "with open('data/mlb-youtube-segmented.json', 'r') as f:\n",
    "    data = json.load(f)\n",
    "\n",
    "\n",
    "files = glob.glob(\"./segmented_videos/*\")\n",
    "res = defaultdict(int)\n",
    "for f in files:\n",
    "    name = f.split('/')[-1].split('.mp4')[0]\n",
    "    for l in data[name]['labels']:\n",
    "        res[l] += 1 \n",
    "res"
   ]
  },
  {
   "cell_type": "code",
   "execution_count": null,
   "metadata": {},
   "outputs": [],
   "source": []
  }
 ],
 "metadata": {
  "kernelspec": {
   "display_name": "Python 3",
   "language": "python",
   "name": "python3"
  },
  "language_info": {
   "codemirror_mode": {
    "name": "ipython",
    "version": 3
   },
   "file_extension": ".py",
   "mimetype": "text/x-python",
   "name": "python",
   "nbconvert_exporter": "python",
   "pygments_lexer": "ipython3",
   "version": "3.9.7"
  }
 },
 "nbformat": 4,
 "nbformat_minor": 2
}
